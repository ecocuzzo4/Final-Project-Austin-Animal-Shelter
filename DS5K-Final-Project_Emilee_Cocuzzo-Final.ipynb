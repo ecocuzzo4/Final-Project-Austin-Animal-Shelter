{
 "cells": [
  {
   "cell_type": "markdown",
   "metadata": {},
   "source": [
    "## The Data Science 5K Final Project "
   ]
  },
  {
   "cell_type": "code",
   "execution_count": 1,
   "metadata": {},
   "outputs": [],
   "source": [
    "# This is my analysis of the Austin, Texas animal shelter data from January 1, 2014 to December 31, 2019.\n",
    "# Only cats and dogs\n",
    "# Outcomes represent the status of animals as they leave the Animal Center. \n",
    "# All animals receive a unique Animal ID during intake.\n",
    "# By: Emilee Cocuzzo"
   ]
  },
  {
   "cell_type": "code",
   "execution_count": 2,
   "metadata": {},
   "outputs": [],
   "source": [
    "# The question I am answering:\n",
    "# Problem Question: Can you predict the likelihood animals will be adopted each year by age and animal type?\n",
    "# Problem: I want to investigate how many and which animals are being adopted in Austin Texas. "
   ]
  },
  {
   "cell_type": "markdown",
   "metadata": {},
   "source": [
    "## Import the Data and Load the Pandas"
   ]
  },
  {
   "cell_type": "code",
   "execution_count": 3,
   "metadata": {},
   "outputs": [],
   "source": [
    "# Load pandas into python\n",
    "import pandas as pd\n",
    "from matplotlib import pyplot as plt\n",
    "\n",
    "%matplotlib inline"
   ]
  },
  {
   "cell_type": "code",
   "execution_count": 4,
   "metadata": {},
   "outputs": [],
   "source": [
    "#Import Libraries\n",
    "import pandas as pd\n",
    "import seaborn as sns\n",
    "import matplotlib.pyplot as plt\n",
    "import numpy as np\n",
    "%matplotlib inline"
   ]
  },
  {
   "cell_type": "code",
   "execution_count": 5,
   "metadata": {},
   "outputs": [],
   "source": [
    "import pandas as pd\n",
    "import numpy as np\n",
    "import seaborn as sns\n",
    "import matplotlib.pyplot as plt\n",
    "\n",
    "# Allow plots to appear in the notebook.\n",
    "%matplotlib inline"
   ]
  },
  {
   "cell_type": "code",
   "execution_count": 6,
   "metadata": {},
   "outputs": [
    {
     "data": {
      "text/plain": [
       "'C:\\\\Users\\\\597551\\\\Documents\\\\DataScience\\\\Final-Project'"
      ]
     },
     "execution_count": 6,
     "metadata": {},
     "output_type": "execute_result"
    }
   ],
   "source": [
    "pwd"
   ]
  },
  {
   "cell_type": "code",
   "execution_count": 7,
   "metadata": {},
   "outputs": [
    {
     "data": {
      "text/html": [
       "<div>\n",
       "<style scoped>\n",
       "    .dataframe tbody tr th:only-of-type {\n",
       "        vertical-align: middle;\n",
       "    }\n",
       "\n",
       "    .dataframe tbody tr th {\n",
       "        vertical-align: top;\n",
       "    }\n",
       "\n",
       "    .dataframe thead th {\n",
       "        text-align: right;\n",
       "    }\n",
       "</style>\n",
       "<table border=\"1\" class=\"dataframe\">\n",
       "  <thead>\n",
       "    <tr style=\"text-align: right;\">\n",
       "      <th></th>\n",
       "      <th>Animal_ID</th>\n",
       "      <th>DOB</th>\n",
       "      <th>Date_Time</th>\n",
       "      <th>Outcome</th>\n",
       "      <th>Outcome_Adoption</th>\n",
       "      <th>Animal_Species</th>\n",
       "      <th>Animal_Species_Number</th>\n",
       "      <th>Age_Outcome</th>\n",
       "      <th>Age_Outcome_Days</th>\n",
       "      <th>Breed</th>\n",
       "      <th>Color</th>\n",
       "    </tr>\n",
       "  </thead>\n",
       "  <tbody>\n",
       "    <tr>\n",
       "      <td>0</td>\n",
       "      <td>A789027</td>\n",
       "      <td>2/13/2017</td>\n",
       "      <td>2/17/2019</td>\n",
       "      <td>Adoption</td>\n",
       "      <td>1</td>\n",
       "      <td>Dog</td>\n",
       "      <td>2</td>\n",
       "      <td>2 years</td>\n",
       "      <td>734</td>\n",
       "      <td>Chihuahua Shorthair Mix</td>\n",
       "      <td>Cream</td>\n",
       "    </tr>\n",
       "    <tr>\n",
       "      <td>1</td>\n",
       "      <td>A720371</td>\n",
       "      <td>10/8/2015</td>\n",
       "      <td>2/13/2016</td>\n",
       "      <td>Adoption</td>\n",
       "      <td>1</td>\n",
       "      <td>Dog</td>\n",
       "      <td>2</td>\n",
       "      <td>4 months</td>\n",
       "      <td>128</td>\n",
       "      <td>Anatol Shepherd/Labrador Retriever</td>\n",
       "      <td>Buff</td>\n",
       "    </tr>\n",
       "    <tr>\n",
       "      <td>2</td>\n",
       "      <td>A674754</td>\n",
       "      <td>3/12/2014</td>\n",
       "      <td>3/18/2014</td>\n",
       "      <td>Transfer</td>\n",
       "      <td>0</td>\n",
       "      <td>Cat</td>\n",
       "      <td>3</td>\n",
       "      <td>6 days</td>\n",
       "      <td>6</td>\n",
       "      <td>Domestic Shorthair Mix</td>\n",
       "      <td>Orange Tabby</td>\n",
       "    </tr>\n",
       "    <tr>\n",
       "      <td>3</td>\n",
       "      <td>A689724</td>\n",
       "      <td>8/1/2014</td>\n",
       "      <td>10/18/2014</td>\n",
       "      <td>Adoption</td>\n",
       "      <td>1</td>\n",
       "      <td>Cat</td>\n",
       "      <td>3</td>\n",
       "      <td>2 months</td>\n",
       "      <td>78</td>\n",
       "      <td>Domestic Shorthair Mix</td>\n",
       "      <td>Black</td>\n",
       "    </tr>\n",
       "    <tr>\n",
       "      <td>4</td>\n",
       "      <td>A680969</td>\n",
       "      <td>6/3/2014</td>\n",
       "      <td>8/5/2014</td>\n",
       "      <td>Adoption</td>\n",
       "      <td>1</td>\n",
       "      <td>Cat</td>\n",
       "      <td>3</td>\n",
       "      <td>2 months</td>\n",
       "      <td>63</td>\n",
       "      <td>Domestic Shorthair Mix</td>\n",
       "      <td>White/Orange Tabby</td>\n",
       "    </tr>\n",
       "  </tbody>\n",
       "</table>\n",
       "</div>"
      ],
      "text/plain": [
       "  Animal_ID        DOB   Date_Time   Outcome  Outcome_Adoption Animal_Species  \\\n",
       "0   A789027  2/13/2017   2/17/2019  Adoption                 1            Dog   \n",
       "1   A720371  10/8/2015   2/13/2016  Adoption                 1            Dog   \n",
       "2   A674754  3/12/2014   3/18/2014  Transfer                 0            Cat   \n",
       "3   A689724   8/1/2014  10/18/2014  Adoption                 1            Cat   \n",
       "4   A680969   6/3/2014    8/5/2014  Adoption                 1            Cat   \n",
       "\n",
       "   Animal_Species_Number Age_Outcome  Age_Outcome_Days  \\\n",
       "0                      2     2 years               734   \n",
       "1                      2    4 months               128   \n",
       "2                      3      6 days                 6   \n",
       "3                      3    2 months                78   \n",
       "4                      3    2 months                63   \n",
       "\n",
       "                                Breed               Color  \n",
       "0             Chihuahua Shorthair Mix               Cream  \n",
       "1  Anatol Shepherd/Labrador Retriever                Buff  \n",
       "2              Domestic Shorthair Mix        Orange Tabby  \n",
       "3              Domestic Shorthair Mix               Black  \n",
       "4              Domestic Shorthair Mix  White/Orange Tabby  "
      ]
     },
     "execution_count": 7,
     "metadata": {},
     "output_type": "execute_result"
    }
   ],
   "source": [
    "# Import the data\n",
    "animals = pd.read_csv(r'C:\\Users\\597551\\Documents\\DataScience\\Final-Project/Austin_Animal_Center_Outcomes.FINAL(3.14.2020).1.csv')\n",
    "animals.head()"
   ]
  },
  {
   "cell_type": "code",
   "execution_count": 8,
   "metadata": {},
   "outputs": [
    {
     "data": {
      "text/html": [
       "<div>\n",
       "<style scoped>\n",
       "    .dataframe tbody tr th:only-of-type {\n",
       "        vertical-align: middle;\n",
       "    }\n",
       "\n",
       "    .dataframe tbody tr th {\n",
       "        vertical-align: top;\n",
       "    }\n",
       "\n",
       "    .dataframe thead th {\n",
       "        text-align: right;\n",
       "    }\n",
       "</style>\n",
       "<table border=\"1\" class=\"dataframe\">\n",
       "  <thead>\n",
       "    <tr style=\"text-align: right;\">\n",
       "      <th></th>\n",
       "      <th>Animal_ID</th>\n",
       "      <th>DOB</th>\n",
       "      <th>Date_Time</th>\n",
       "      <th>Outcome</th>\n",
       "      <th>Outcome_Adoption</th>\n",
       "      <th>Animal_Species</th>\n",
       "      <th>Animal_Species_Number</th>\n",
       "      <th>Age_Outcome</th>\n",
       "      <th>Age_Outcome_Days</th>\n",
       "      <th>Breed</th>\n",
       "      <th>Color</th>\n",
       "    </tr>\n",
       "  </thead>\n",
       "  <tbody>\n",
       "    <tr>\n",
       "      <td>0</td>\n",
       "      <td>A789027</td>\n",
       "      <td>2/13/2017</td>\n",
       "      <td>2/17/2019</td>\n",
       "      <td>Adoption</td>\n",
       "      <td>1</td>\n",
       "      <td>Dog</td>\n",
       "      <td>2</td>\n",
       "      <td>2 years</td>\n",
       "      <td>734</td>\n",
       "      <td>Chihuahua Shorthair Mix</td>\n",
       "      <td>Cream</td>\n",
       "    </tr>\n",
       "    <tr>\n",
       "      <td>1</td>\n",
       "      <td>A720371</td>\n",
       "      <td>10/8/2015</td>\n",
       "      <td>2/13/2016</td>\n",
       "      <td>Adoption</td>\n",
       "      <td>1</td>\n",
       "      <td>Dog</td>\n",
       "      <td>2</td>\n",
       "      <td>4 months</td>\n",
       "      <td>128</td>\n",
       "      <td>Anatol Shepherd/Labrador Retriever</td>\n",
       "      <td>Buff</td>\n",
       "    </tr>\n",
       "    <tr>\n",
       "      <td>2</td>\n",
       "      <td>A674754</td>\n",
       "      <td>3/12/2014</td>\n",
       "      <td>3/18/2014</td>\n",
       "      <td>Transfer</td>\n",
       "      <td>0</td>\n",
       "      <td>Cat</td>\n",
       "      <td>3</td>\n",
       "      <td>6 days</td>\n",
       "      <td>6</td>\n",
       "      <td>Domestic Shorthair Mix</td>\n",
       "      <td>Orange Tabby</td>\n",
       "    </tr>\n",
       "    <tr>\n",
       "      <td>3</td>\n",
       "      <td>A689724</td>\n",
       "      <td>8/1/2014</td>\n",
       "      <td>10/18/2014</td>\n",
       "      <td>Adoption</td>\n",
       "      <td>1</td>\n",
       "      <td>Cat</td>\n",
       "      <td>3</td>\n",
       "      <td>2 months</td>\n",
       "      <td>78</td>\n",
       "      <td>Domestic Shorthair Mix</td>\n",
       "      <td>Black</td>\n",
       "    </tr>\n",
       "    <tr>\n",
       "      <td>4</td>\n",
       "      <td>A680969</td>\n",
       "      <td>6/3/2014</td>\n",
       "      <td>8/5/2014</td>\n",
       "      <td>Adoption</td>\n",
       "      <td>1</td>\n",
       "      <td>Cat</td>\n",
       "      <td>3</td>\n",
       "      <td>2 months</td>\n",
       "      <td>63</td>\n",
       "      <td>Domestic Shorthair Mix</td>\n",
       "      <td>White/Orange Tabby</td>\n",
       "    </tr>\n",
       "  </tbody>\n",
       "</table>\n",
       "</div>"
      ],
      "text/plain": [
       "  Animal_ID        DOB   Date_Time   Outcome  Outcome_Adoption Animal_Species  \\\n",
       "0   A789027  2/13/2017   2/17/2019  Adoption                 1            Dog   \n",
       "1   A720371  10/8/2015   2/13/2016  Adoption                 1            Dog   \n",
       "2   A674754  3/12/2014   3/18/2014  Transfer                 0            Cat   \n",
       "3   A689724   8/1/2014  10/18/2014  Adoption                 1            Cat   \n",
       "4   A680969   6/3/2014    8/5/2014  Adoption                 1            Cat   \n",
       "\n",
       "   Animal_Species_Number Age_Outcome  Age_Outcome_Days  \\\n",
       "0                      2     2 years               734   \n",
       "1                      2    4 months               128   \n",
       "2                      3      6 days                 6   \n",
       "3                      3    2 months                78   \n",
       "4                      3    2 months                63   \n",
       "\n",
       "                                Breed               Color  \n",
       "0             Chihuahua Shorthair Mix               Cream  \n",
       "1  Anatol Shepherd/Labrador Retriever                Buff  \n",
       "2              Domestic Shorthair Mix        Orange Tabby  \n",
       "3              Domestic Shorthair Mix               Black  \n",
       "4              Domestic Shorthair Mix  White/Orange Tabby  "
      ]
     },
     "execution_count": 8,
     "metadata": {},
     "output_type": "execute_result"
    }
   ],
   "source": [
    "# Import the data\n",
    "df = pd.read_csv(r'C:/Users/597551/Documents/DataScience/Final-Project/Austin_Animal_Center_Outcomes.FINAL(3.14.2020).1.csv')\n",
    "df.head()"
   ]
  },
  {
   "cell_type": "markdown",
   "metadata": {},
   "source": [
    "## Data Analysis"
   ]
  },
  {
   "cell_type": "code",
   "execution_count": 9,
   "metadata": {},
   "outputs": [
    {
     "data": {
      "text/html": [
       "<div>\n",
       "<style scoped>\n",
       "    .dataframe tbody tr th:only-of-type {\n",
       "        vertical-align: middle;\n",
       "    }\n",
       "\n",
       "    .dataframe tbody tr th {\n",
       "        vertical-align: top;\n",
       "    }\n",
       "\n",
       "    .dataframe thead th {\n",
       "        text-align: right;\n",
       "    }\n",
       "</style>\n",
       "<table border=\"1\" class=\"dataframe\">\n",
       "  <thead>\n",
       "    <tr style=\"text-align: right;\">\n",
       "      <th></th>\n",
       "      <th>Animal_ID</th>\n",
       "      <th>DOB</th>\n",
       "      <th>Date_Time</th>\n",
       "      <th>Outcome</th>\n",
       "      <th>Outcome_Adoption</th>\n",
       "      <th>Animal_Species</th>\n",
       "      <th>Animal_Species_Number</th>\n",
       "      <th>Age_Outcome</th>\n",
       "      <th>Age_Outcome_Days</th>\n",
       "      <th>Breed</th>\n",
       "      <th>Color</th>\n",
       "    </tr>\n",
       "  </thead>\n",
       "  <tbody>\n",
       "    <tr>\n",
       "      <td>0</td>\n",
       "      <td>A789027</td>\n",
       "      <td>2/13/2017</td>\n",
       "      <td>2/17/2019</td>\n",
       "      <td>Adoption</td>\n",
       "      <td>1</td>\n",
       "      <td>Dog</td>\n",
       "      <td>2</td>\n",
       "      <td>2 years</td>\n",
       "      <td>734</td>\n",
       "      <td>Chihuahua Shorthair Mix</td>\n",
       "      <td>Cream</td>\n",
       "    </tr>\n",
       "    <tr>\n",
       "      <td>1</td>\n",
       "      <td>A720371</td>\n",
       "      <td>10/8/2015</td>\n",
       "      <td>2/13/2016</td>\n",
       "      <td>Adoption</td>\n",
       "      <td>1</td>\n",
       "      <td>Dog</td>\n",
       "      <td>2</td>\n",
       "      <td>4 months</td>\n",
       "      <td>128</td>\n",
       "      <td>Anatol Shepherd/Labrador Retriever</td>\n",
       "      <td>Buff</td>\n",
       "    </tr>\n",
       "    <tr>\n",
       "      <td>2</td>\n",
       "      <td>A674754</td>\n",
       "      <td>3/12/2014</td>\n",
       "      <td>3/18/2014</td>\n",
       "      <td>Transfer</td>\n",
       "      <td>0</td>\n",
       "      <td>Cat</td>\n",
       "      <td>3</td>\n",
       "      <td>6 days</td>\n",
       "      <td>6</td>\n",
       "      <td>Domestic Shorthair Mix</td>\n",
       "      <td>Orange Tabby</td>\n",
       "    </tr>\n",
       "    <tr>\n",
       "      <td>3</td>\n",
       "      <td>A689724</td>\n",
       "      <td>8/1/2014</td>\n",
       "      <td>10/18/2014</td>\n",
       "      <td>Adoption</td>\n",
       "      <td>1</td>\n",
       "      <td>Cat</td>\n",
       "      <td>3</td>\n",
       "      <td>2 months</td>\n",
       "      <td>78</td>\n",
       "      <td>Domestic Shorthair Mix</td>\n",
       "      <td>Black</td>\n",
       "    </tr>\n",
       "    <tr>\n",
       "      <td>4</td>\n",
       "      <td>A680969</td>\n",
       "      <td>6/3/2014</td>\n",
       "      <td>8/5/2014</td>\n",
       "      <td>Adoption</td>\n",
       "      <td>1</td>\n",
       "      <td>Cat</td>\n",
       "      <td>3</td>\n",
       "      <td>2 months</td>\n",
       "      <td>63</td>\n",
       "      <td>Domestic Shorthair Mix</td>\n",
       "      <td>White/Orange Tabby</td>\n",
       "    </tr>\n",
       "    <tr>\n",
       "      <td>...</td>\n",
       "      <td>...</td>\n",
       "      <td>...</td>\n",
       "      <td>...</td>\n",
       "      <td>...</td>\n",
       "      <td>...</td>\n",
       "      <td>...</td>\n",
       "      <td>...</td>\n",
       "      <td>...</td>\n",
       "      <td>...</td>\n",
       "      <td>...</td>\n",
       "      <td>...</td>\n",
       "    </tr>\n",
       "    <tr>\n",
       "      <td>102868</td>\n",
       "      <td>A760365</td>\n",
       "      <td>10/17/2016</td>\n",
       "      <td>10/18/2017</td>\n",
       "      <td>Transfer</td>\n",
       "      <td>0</td>\n",
       "      <td>Cat</td>\n",
       "      <td>3</td>\n",
       "      <td>1 year</td>\n",
       "      <td>366</td>\n",
       "      <td>Domestic Shorthair Mix</td>\n",
       "      <td>Silver Tabby</td>\n",
       "    </tr>\n",
       "    <tr>\n",
       "      <td>102869</td>\n",
       "      <td>A767465</td>\n",
       "      <td>3/1/2014</td>\n",
       "      <td>3/1/2018</td>\n",
       "      <td>Return to Owner</td>\n",
       "      <td>0</td>\n",
       "      <td>Dog</td>\n",
       "      <td>2</td>\n",
       "      <td>4 years</td>\n",
       "      <td>1461</td>\n",
       "      <td>Chihuahua Shorthair Mix</td>\n",
       "      <td>Black/Cream</td>\n",
       "    </tr>\n",
       "    <tr>\n",
       "      <td>102870</td>\n",
       "      <td>A774386</td>\n",
       "      <td>4/7/2018</td>\n",
       "      <td>6/23/2018</td>\n",
       "      <td>Adoption</td>\n",
       "      <td>1</td>\n",
       "      <td>Cat</td>\n",
       "      <td>3</td>\n",
       "      <td>2 months</td>\n",
       "      <td>77</td>\n",
       "      <td>Domestic Shorthair Mix</td>\n",
       "      <td>Brown Tabby</td>\n",
       "    </tr>\n",
       "    <tr>\n",
       "      <td>102871</td>\n",
       "      <td>A772554</td>\n",
       "      <td>11/1/2012</td>\n",
       "      <td>5/21/2018</td>\n",
       "      <td>Return to Owner</td>\n",
       "      <td>0</td>\n",
       "      <td>Dog</td>\n",
       "      <td>2</td>\n",
       "      <td>5 years</td>\n",
       "      <td>2027</td>\n",
       "      <td>Norfolk Terrier Mix</td>\n",
       "      <td>Tan</td>\n",
       "    </tr>\n",
       "    <tr>\n",
       "      <td>102872</td>\n",
       "      <td>A767854</td>\n",
       "      <td>7/8/2017</td>\n",
       "      <td>3/12/2018</td>\n",
       "      <td>Transfer</td>\n",
       "      <td>0</td>\n",
       "      <td>Cat</td>\n",
       "      <td>3</td>\n",
       "      <td>8 months</td>\n",
       "      <td>247</td>\n",
       "      <td>Domestic Shorthair Mix</td>\n",
       "      <td>Orange Tabby/White</td>\n",
       "    </tr>\n",
       "  </tbody>\n",
       "</table>\n",
       "<p>102873 rows × 11 columns</p>\n",
       "</div>"
      ],
      "text/plain": [
       "       Animal_ID         DOB   Date_Time          Outcome  Outcome_Adoption  \\\n",
       "0        A789027   2/13/2017   2/17/2019         Adoption                 1   \n",
       "1        A720371   10/8/2015   2/13/2016         Adoption                 1   \n",
       "2        A674754   3/12/2014   3/18/2014         Transfer                 0   \n",
       "3        A689724    8/1/2014  10/18/2014         Adoption                 1   \n",
       "4        A680969    6/3/2014    8/5/2014         Adoption                 1   \n",
       "...          ...         ...         ...              ...               ...   \n",
       "102868   A760365  10/17/2016  10/18/2017         Transfer                 0   \n",
       "102869   A767465    3/1/2014    3/1/2018  Return to Owner                 0   \n",
       "102870   A774386    4/7/2018   6/23/2018         Adoption                 1   \n",
       "102871   A772554   11/1/2012   5/21/2018  Return to Owner                 0   \n",
       "102872   A767854    7/8/2017   3/12/2018         Transfer                 0   \n",
       "\n",
       "       Animal_Species  Animal_Species_Number Age_Outcome  Age_Outcome_Days  \\\n",
       "0                 Dog                      2     2 years               734   \n",
       "1                 Dog                      2    4 months               128   \n",
       "2                 Cat                      3      6 days                 6   \n",
       "3                 Cat                      3    2 months                78   \n",
       "4                 Cat                      3    2 months                63   \n",
       "...               ...                    ...         ...               ...   \n",
       "102868            Cat                      3      1 year               366   \n",
       "102869            Dog                      2     4 years              1461   \n",
       "102870            Cat                      3    2 months                77   \n",
       "102871            Dog                      2     5 years              2027   \n",
       "102872            Cat                      3    8 months               247   \n",
       "\n",
       "                                     Breed               Color  \n",
       "0                  Chihuahua Shorthair Mix               Cream  \n",
       "1       Anatol Shepherd/Labrador Retriever                Buff  \n",
       "2                   Domestic Shorthair Mix        Orange Tabby  \n",
       "3                   Domestic Shorthair Mix               Black  \n",
       "4                   Domestic Shorthair Mix  White/Orange Tabby  \n",
       "...                                    ...                 ...  \n",
       "102868              Domestic Shorthair Mix        Silver Tabby  \n",
       "102869             Chihuahua Shorthair Mix         Black/Cream  \n",
       "102870              Domestic Shorthair Mix         Brown Tabby  \n",
       "102871                 Norfolk Terrier Mix                 Tan  \n",
       "102872              Domestic Shorthair Mix  Orange Tabby/White  \n",
       "\n",
       "[102873 rows x 11 columns]"
      ]
     },
     "execution_count": 9,
     "metadata": {},
     "output_type": "execute_result"
    }
   ],
   "source": [
    "# Check to make sure it was loaded correctly\n",
    "animals"
   ]
  },
  {
   "cell_type": "code",
   "execution_count": 10,
   "metadata": {},
   "outputs": [
    {
     "data": {
      "text/plain": [
       "Animal_ID                object\n",
       "DOB                      object\n",
       "Date_Time                object\n",
       "Outcome                  object\n",
       "Outcome_Adoption          int64\n",
       "Animal_Species           object\n",
       "Animal_Species_Number     int64\n",
       "Age_Outcome              object\n",
       "Age_Outcome_Days          int64\n",
       "Breed                    object\n",
       "Color                    object\n",
       "dtype: object"
      ]
     },
     "execution_count": 10,
     "metadata": {},
     "output_type": "execute_result"
    }
   ],
   "source": [
    "# Data types of each column -- each column is stored as an ndarray which has a data type\n",
    "animals.dtypes"
   ]
  },
  {
   "cell_type": "code",
   "execution_count": 11,
   "metadata": {},
   "outputs": [
    {
     "data": {
      "text/plain": [
       "pandas.core.frame.DataFrame"
      ]
     },
     "execution_count": 11,
     "metadata": {},
     "output_type": "execute_result"
    }
   ],
   "source": [
    "# DataFrame\n",
    "type(animals)   "
   ]
  },
  {
   "cell_type": "code",
   "execution_count": 12,
   "metadata": {
    "scrolled": false
   },
   "outputs": [
    {
     "name": "stdout",
     "output_type": "stream",
     "text": [
      "Animal_ID                                            A811274\n",
      "DOB                                                 9/9/2019\n",
      "Date_Time                                           9/9/2019\n",
      "Outcome                                             Transfer\n",
      "Outcome_Adoption                                           1\n",
      "Animal_Species                                           Dog\n",
      "Animal_Species_Number                                      3\n",
      "Age_Outcome                                          9 years\n",
      "Age_Outcome_Days                                        8766\n",
      "Breed                    Yorkshire Terrier/Yorkshire Terrier\n",
      "Color                                          Yellow/Yellow\n",
      "dtype: object\n"
     ]
    }
   ],
   "source": [
    "# Check to see the maximum\n",
    "print(animals.max())"
   ]
  },
  {
   "cell_type": "code",
   "execution_count": 13,
   "metadata": {},
   "outputs": [
    {
     "data": {
      "text/plain": [
       "(102873, 11)"
      ]
     },
     "execution_count": 13,
     "metadata": {},
     "output_type": "execute_result"
    }
   ],
   "source": [
    "# Number of rows and columns\n",
    "animals.shape"
   ]
  },
  {
   "cell_type": "code",
   "execution_count": 14,
   "metadata": {},
   "outputs": [
    {
     "data": {
      "text/html": [
       "<div>\n",
       "<style scoped>\n",
       "    .dataframe tbody tr th:only-of-type {\n",
       "        vertical-align: middle;\n",
       "    }\n",
       "\n",
       "    .dataframe tbody tr th {\n",
       "        vertical-align: top;\n",
       "    }\n",
       "\n",
       "    .dataframe thead th {\n",
       "        text-align: right;\n",
       "    }\n",
       "</style>\n",
       "<table border=\"1\" class=\"dataframe\">\n",
       "  <thead>\n",
       "    <tr style=\"text-align: right;\">\n",
       "      <th></th>\n",
       "      <th>Animal_ID</th>\n",
       "      <th>DOB</th>\n",
       "      <th>Date_Time</th>\n",
       "      <th>Outcome</th>\n",
       "      <th>Outcome_Adoption</th>\n",
       "      <th>Animal_Species</th>\n",
       "      <th>Animal_Species_Number</th>\n",
       "      <th>Age_Outcome</th>\n",
       "      <th>Age_Outcome_Days</th>\n",
       "      <th>Breed</th>\n",
       "      <th>Color</th>\n",
       "    </tr>\n",
       "  </thead>\n",
       "  <tbody>\n",
       "    <tr>\n",
       "      <td>0</td>\n",
       "      <td>A789027</td>\n",
       "      <td>2/13/2017</td>\n",
       "      <td>2/17/2019</td>\n",
       "      <td>Adoption</td>\n",
       "      <td>1</td>\n",
       "      <td>Dog</td>\n",
       "      <td>2</td>\n",
       "      <td>2 years</td>\n",
       "      <td>734</td>\n",
       "      <td>Chihuahua Shorthair Mix</td>\n",
       "      <td>Cream</td>\n",
       "    </tr>\n",
       "    <tr>\n",
       "      <td>1</td>\n",
       "      <td>A720371</td>\n",
       "      <td>10/8/2015</td>\n",
       "      <td>2/13/2016</td>\n",
       "      <td>Adoption</td>\n",
       "      <td>1</td>\n",
       "      <td>Dog</td>\n",
       "      <td>2</td>\n",
       "      <td>4 months</td>\n",
       "      <td>128</td>\n",
       "      <td>Anatol Shepherd/Labrador Retriever</td>\n",
       "      <td>Buff</td>\n",
       "    </tr>\n",
       "    <tr>\n",
       "      <td>2</td>\n",
       "      <td>A674754</td>\n",
       "      <td>3/12/2014</td>\n",
       "      <td>3/18/2014</td>\n",
       "      <td>Transfer</td>\n",
       "      <td>0</td>\n",
       "      <td>Cat</td>\n",
       "      <td>3</td>\n",
       "      <td>6 days</td>\n",
       "      <td>6</td>\n",
       "      <td>Domestic Shorthair Mix</td>\n",
       "      <td>Orange Tabby</td>\n",
       "    </tr>\n",
       "    <tr>\n",
       "      <td>3</td>\n",
       "      <td>A689724</td>\n",
       "      <td>8/1/2014</td>\n",
       "      <td>10/18/2014</td>\n",
       "      <td>Adoption</td>\n",
       "      <td>1</td>\n",
       "      <td>Cat</td>\n",
       "      <td>3</td>\n",
       "      <td>2 months</td>\n",
       "      <td>78</td>\n",
       "      <td>Domestic Shorthair Mix</td>\n",
       "      <td>Black</td>\n",
       "    </tr>\n",
       "    <tr>\n",
       "      <td>4</td>\n",
       "      <td>A680969</td>\n",
       "      <td>6/3/2014</td>\n",
       "      <td>8/5/2014</td>\n",
       "      <td>Adoption</td>\n",
       "      <td>1</td>\n",
       "      <td>Cat</td>\n",
       "      <td>3</td>\n",
       "      <td>2 months</td>\n",
       "      <td>63</td>\n",
       "      <td>Domestic Shorthair Mix</td>\n",
       "      <td>White/Orange Tabby</td>\n",
       "    </tr>\n",
       "  </tbody>\n",
       "</table>\n",
       "</div>"
      ],
      "text/plain": [
       "  Animal_ID        DOB   Date_Time   Outcome  Outcome_Adoption Animal_Species  \\\n",
       "0   A789027  2/13/2017   2/17/2019  Adoption                 1            Dog   \n",
       "1   A720371  10/8/2015   2/13/2016  Adoption                 1            Dog   \n",
       "2   A674754  3/12/2014   3/18/2014  Transfer                 0            Cat   \n",
       "3   A689724   8/1/2014  10/18/2014  Adoption                 1            Cat   \n",
       "4   A680969   6/3/2014    8/5/2014  Adoption                 1            Cat   \n",
       "\n",
       "   Animal_Species_Number Age_Outcome  Age_Outcome_Days  \\\n",
       "0                      2     2 years               734   \n",
       "1                      2    4 months               128   \n",
       "2                      3      6 days                 6   \n",
       "3                      3    2 months                78   \n",
       "4                      3    2 months                63   \n",
       "\n",
       "                                Breed               Color  \n",
       "0             Chihuahua Shorthair Mix               Cream  \n",
       "1  Anatol Shepherd/Labrador Retriever                Buff  \n",
       "2              Domestic Shorthair Mix        Orange Tabby  \n",
       "3              Domestic Shorthair Mix               Black  \n",
       "4              Domestic Shorthair Mix  White/Orange Tabby  "
      ]
     },
     "execution_count": 14,
     "metadata": {},
     "output_type": "execute_result"
    }
   ],
   "source": [
    "# Print the first 5 rows\n",
    "animals.head() "
   ]
  },
  {
   "cell_type": "code",
   "execution_count": 15,
   "metadata": {},
   "outputs": [
    {
     "data": {
      "text/plain": [
       "Animal_ID                object\n",
       "DOB                      object\n",
       "Date_Time                object\n",
       "Outcome                  object\n",
       "Outcome_Adoption          int64\n",
       "Animal_Species           object\n",
       "Animal_Species_Number     int64\n",
       "Age_Outcome              object\n",
       "Age_Outcome_Days          int64\n",
       "Breed                    object\n",
       "Color                    object\n",
       "dtype: object"
      ]
     },
     "execution_count": 15,
     "metadata": {},
     "output_type": "execute_result"
    }
   ],
   "source": [
    "# Data types of each column -- each column is stored as an ndarray which has a data type\n",
    "animals.dtypes"
   ]
  },
  {
   "cell_type": "code",
   "execution_count": 16,
   "metadata": {},
   "outputs": [
    {
     "data": {
      "text/plain": [
       "Adoption           47421\n",
       "Transfer           31580\n",
       "Return to Owner    19156\n",
       "Euthanasia          3209\n",
       "Died                 832\n",
       "Rto-Adopt            549\n",
       "Disposal              64\n",
       "Missing               62\n",
       "Name: Outcome, dtype: int64"
      ]
     },
     "execution_count": 16,
     "metadata": {},
     "output_type": "execute_result"
    }
   ],
   "source": [
    "# Find the counts of each column \n",
    "animals.Outcome.value_counts()"
   ]
  },
  {
   "cell_type": "code",
   "execution_count": 17,
   "metadata": {},
   "outputs": [
    {
     "data": {
      "text/plain": [
       "Black/White                11083\n",
       "Black                       8701\n",
       "Brown Tabby                 6249\n",
       "White                       3669\n",
       "Brown/White                 3411\n",
       "                           ...  \n",
       "Cream Tabby/Cream Tabby        1\n",
       "Blue Point/Cream               1\n",
       "Black Tabby/Gray Tabby         1\n",
       "Orange Tabby/Apricot           1\n",
       "Blue/Silver                    1\n",
       "Name: Color, Length: 536, dtype: int64"
      ]
     },
     "execution_count": 17,
     "metadata": {},
     "output_type": "execute_result"
    }
   ],
   "source": [
    "# Checking the counts for the colors of each animal\n",
    "animals.Color.value_counts()"
   ]
  },
  {
   "cell_type": "code",
   "execution_count": 18,
   "metadata": {},
   "outputs": [
    {
     "data": {
      "text/html": [
       "<div>\n",
       "<style scoped>\n",
       "    .dataframe tbody tr th:only-of-type {\n",
       "        vertical-align: middle;\n",
       "    }\n",
       "\n",
       "    .dataframe tbody tr th {\n",
       "        vertical-align: top;\n",
       "    }\n",
       "\n",
       "    .dataframe thead th {\n",
       "        text-align: right;\n",
       "    }\n",
       "</style>\n",
       "<table border=\"1\" class=\"dataframe\">\n",
       "  <thead>\n",
       "    <tr style=\"text-align: right;\">\n",
       "      <th></th>\n",
       "      <th>Animal_ID</th>\n",
       "      <th>DOB</th>\n",
       "      <th>Date_Time</th>\n",
       "      <th>Outcome</th>\n",
       "      <th>Animal_Species</th>\n",
       "      <th>Age_Outcome</th>\n",
       "      <th>Breed</th>\n",
       "      <th>Color</th>\n",
       "    </tr>\n",
       "  </thead>\n",
       "  <tbody>\n",
       "    <tr>\n",
       "      <td>count</td>\n",
       "      <td>102873</td>\n",
       "      <td>102873</td>\n",
       "      <td>102873</td>\n",
       "      <td>102873</td>\n",
       "      <td>102873</td>\n",
       "      <td>102873</td>\n",
       "      <td>102873</td>\n",
       "      <td>102873</td>\n",
       "    </tr>\n",
       "    <tr>\n",
       "      <td>unique</td>\n",
       "      <td>91483</td>\n",
       "      <td>6562</td>\n",
       "      <td>2189</td>\n",
       "      <td>8</td>\n",
       "      <td>2</td>\n",
       "      <td>46</td>\n",
       "      <td>2264</td>\n",
       "      <td>536</td>\n",
       "    </tr>\n",
       "    <tr>\n",
       "      <td>top</td>\n",
       "      <td>A721033</td>\n",
       "      <td>4/21/2014</td>\n",
       "      <td>7/9/2016</td>\n",
       "      <td>Adoption</td>\n",
       "      <td>Dog</td>\n",
       "      <td>1 year</td>\n",
       "      <td>Domestic Shorthair Mix</td>\n",
       "      <td>Black/White</td>\n",
       "    </tr>\n",
       "    <tr>\n",
       "      <td>freq</td>\n",
       "      <td>33</td>\n",
       "      <td>113</td>\n",
       "      <td>208</td>\n",
       "      <td>47421</td>\n",
       "      <td>61603</td>\n",
       "      <td>16768</td>\n",
       "      <td>29351</td>\n",
       "      <td>11083</td>\n",
       "    </tr>\n",
       "  </tbody>\n",
       "</table>\n",
       "</div>"
      ],
      "text/plain": [
       "       Animal_ID        DOB Date_Time   Outcome Animal_Species Age_Outcome  \\\n",
       "count     102873     102873    102873    102873         102873      102873   \n",
       "unique     91483       6562      2189         8              2          46   \n",
       "top      A721033  4/21/2014  7/9/2016  Adoption            Dog      1 year   \n",
       "freq          33        113       208     47421          61603       16768   \n",
       "\n",
       "                         Breed        Color  \n",
       "count                   102873       102873  \n",
       "unique                    2264          536  \n",
       "top     Domestic Shorthair Mix  Black/White  \n",
       "freq                     29351        11083  "
      ]
     },
     "execution_count": 18,
     "metadata": {},
     "output_type": "execute_result"
    }
   ],
   "source": [
    "# Describe all object columns (can include multiple types)\n",
    "animals.describe(include=['object'])"
   ]
  },
  {
   "cell_type": "code",
   "execution_count": 19,
   "metadata": {},
   "outputs": [
    {
     "data": {
      "text/plain": [
       "Dog    61603\n",
       "Cat    41270\n",
       "Name: Animal_Species, dtype: int64"
      ]
     },
     "execution_count": 19,
     "metadata": {},
     "output_type": "execute_result"
    }
   ],
   "source": [
    "# Types of animal being adopted\n",
    "animals.Animal_Species.value_counts()\n",
    "\n",
    "#Limited to just cats and dogs\n",
    "# Note 2 = Dogs and 3 = Cats"
   ]
  },
  {
   "cell_type": "code",
   "execution_count": 20,
   "metadata": {},
   "outputs": [
    {
     "data": {
      "text/html": [
       "<div>\n",
       "<style scoped>\n",
       "    .dataframe tbody tr th:only-of-type {\n",
       "        vertical-align: middle;\n",
       "    }\n",
       "\n",
       "    .dataframe tbody tr th {\n",
       "        vertical-align: top;\n",
       "    }\n",
       "\n",
       "    .dataframe thead th {\n",
       "        text-align: right;\n",
       "    }\n",
       "</style>\n",
       "<table border=\"1\" class=\"dataframe\">\n",
       "  <thead>\n",
       "    <tr style=\"text-align: right;\">\n",
       "      <th></th>\n",
       "      <th>Outcome_Adoption</th>\n",
       "      <th>Animal_Species_Number</th>\n",
       "      <th>Age_Outcome_Days</th>\n",
       "    </tr>\n",
       "  </thead>\n",
       "  <tbody>\n",
       "    <tr>\n",
       "      <td>count</td>\n",
       "      <td>102873.000000</td>\n",
       "      <td>102873.000000</td>\n",
       "      <td>102873.000000</td>\n",
       "    </tr>\n",
       "    <tr>\n",
       "      <td>mean</td>\n",
       "      <td>0.460966</td>\n",
       "      <td>2.401174</td>\n",
       "      <td>822.487397</td>\n",
       "    </tr>\n",
       "    <tr>\n",
       "      <td>std</td>\n",
       "      <td>0.498476</td>\n",
       "      <td>0.490139</td>\n",
       "      <td>1096.644163</td>\n",
       "    </tr>\n",
       "    <tr>\n",
       "      <td>min</td>\n",
       "      <td>0.000000</td>\n",
       "      <td>2.000000</td>\n",
       "      <td>0.000000</td>\n",
       "    </tr>\n",
       "    <tr>\n",
       "      <td>25%</td>\n",
       "      <td>0.000000</td>\n",
       "      <td>2.000000</td>\n",
       "      <td>90.000000</td>\n",
       "    </tr>\n",
       "    <tr>\n",
       "      <td>50%</td>\n",
       "      <td>0.000000</td>\n",
       "      <td>2.000000</td>\n",
       "      <td>371.000000</td>\n",
       "    </tr>\n",
       "    <tr>\n",
       "      <td>75%</td>\n",
       "      <td>1.000000</td>\n",
       "      <td>3.000000</td>\n",
       "      <td>1096.000000</td>\n",
       "    </tr>\n",
       "    <tr>\n",
       "      <td>max</td>\n",
       "      <td>1.000000</td>\n",
       "      <td>3.000000</td>\n",
       "      <td>8766.000000</td>\n",
       "    </tr>\n",
       "  </tbody>\n",
       "</table>\n",
       "</div>"
      ],
      "text/plain": [
       "       Outcome_Adoption  Animal_Species_Number  Age_Outcome_Days\n",
       "count     102873.000000          102873.000000     102873.000000\n",
       "mean           0.460966               2.401174        822.487397\n",
       "std            0.498476               0.490139       1096.644163\n",
       "min            0.000000               2.000000          0.000000\n",
       "25%            0.000000               2.000000         90.000000\n",
       "50%            0.000000               2.000000        371.000000\n",
       "75%            1.000000               3.000000       1096.000000\n",
       "max            1.000000               3.000000       8766.000000"
      ]
     },
     "execution_count": 20,
     "metadata": {},
     "output_type": "execute_result"
    }
   ],
   "source": [
    "# Initial analysis to describe all numeric columns.\n",
    "animals.describe()"
   ]
  },
  {
   "cell_type": "markdown",
   "metadata": {},
   "source": [
    "## Data Visualizations"
   ]
  },
  {
   "cell_type": "code",
   "execution_count": 21,
   "metadata": {},
   "outputs": [
    {
     "data": {
      "text/plain": [
       "<matplotlib.axes._subplots.AxesSubplot at 0x269664f0c48>"
      ]
     },
     "execution_count": 21,
     "metadata": {},
     "output_type": "execute_result"
    },
    {
     "data": {
      "image/png": "[encoded data removed]",
      "text/plain": [
       "<Figure size 432x288 with 1 Axes>"
      ]
     },
     "metadata": {
      "needs_background": "light"
     },
     "output_type": "display_data"
    }
   ],
   "source": [
    "# Quick plot by outcome - either adoption or not\n",
    "# Adopt = 1 and everything else = 0\n",
    "animals.Outcome_Adoption.value_counts().plot(kind='bar') "
   ]
  },
  {
   "cell_type": "code",
   "execution_count": 22,
   "metadata": {},
   "outputs": [
    {
     "data": {
      "image/png": "[encoded data removed]",
      "text/plain": [
       "<Figure size 432x288 with 1 Axes>"
      ]
     },
     "metadata": {
      "needs_background": "light"
     },
     "output_type": "display_data"
    }
   ],
   "source": [
    "# Bar graph plot of outcomes\n",
    "animals.Outcome.value_counts().plot(kind='bar');\n",
    "\n",
    "# This also shows me that most are adopted or transfered."
   ]
  },
  {
   "cell_type": "code",
   "execution_count": 23,
   "metadata": {},
   "outputs": [
    {
     "data": {
      "image/png": "[encoded data removed]",
      "text/plain": [
       "<Figure size 432x288 with 1 Axes>"
      ]
     },
     "metadata": {
      "needs_background": "light"
     },
     "output_type": "display_data"
    }
   ],
   "source": [
    "# Draw a histogram of a column (the distribution of ages).\n",
    "animals.Age_Outcome_Days.hist();"
   ]
  },
  {
   "cell_type": "code",
   "execution_count": 24,
   "metadata": {},
   "outputs": [
    {
     "data": {
      "image/png": "[encoded data removed]",
      "text/plain": [
       "<Figure size 864x864 with 1 Axes>"
      ]
     },
     "metadata": {
      "needs_background": "light"
     },
     "output_type": "display_data"
    }
   ],
   "source": [
    "# Increasing age and making a larger plot\n",
    "animals.Age_Outcome.value_counts().sort_index().plot(kind='bar', figsize=(12,12));    \n",
    "plt.xlabel('Outcome_Adoption');\n",
    "plt.ylabel('Age_Outcome');\n",
    "plt.title('Outcome of Adoption per Age');"
   ]
  },
  {
   "cell_type": "code",
   "execution_count": 25,
   "metadata": {},
   "outputs": [
    {
     "data": {
      "text/plain": [
       "<seaborn.axisgrid.PairGrid at 0x26966009a88>"
      ]
     },
     "execution_count": 25,
     "metadata": {},
     "output_type": "execute_result"
    },
    {
     "data": {
      "image/png": "[encoded data removed]",
      "text/plain": [
       "<Figure size 540x540 with 12 Axes>"
      ]
     },
     "metadata": {
      "needs_background": "light"
     },
     "output_type": "display_data"
    }
   ],
   "source": [
    "#pair plot\n",
    "sns.pairplot(animals)"
   ]
  },
  {
   "cell_type": "markdown",
   "metadata": {},
   "source": [
    "## Cleaning the data"
   ]
  },
  {
   "cell_type": "code",
   "execution_count": 26,
   "metadata": {},
   "outputs": [],
   "source": [
    "# Change Age_Outcome_Days to Number \n",
    "animals['Age_Outcome_Days'] = pd.to_numeric(animals['Age_Outcome_Days'],errors='coerce')"
   ]
  },
  {
   "cell_type": "code",
   "execution_count": 27,
   "metadata": {},
   "outputs": [
    {
     "data": {
      "text/plain": [
       "Animal_ID                object\n",
       "DOB                      object\n",
       "Date_Time                object\n",
       "Outcome                  object\n",
       "Outcome_Adoption          int64\n",
       "Animal_Species           object\n",
       "Animal_Species_Number     int64\n",
       "Age_Outcome              object\n",
       "Age_Outcome_Days          int64\n",
       "Breed                    object\n",
       "Color                    object\n",
       "dtype: object"
      ]
     },
     "execution_count": 27,
     "metadata": {},
     "output_type": "execute_result"
    }
   ],
   "source": [
    "# Check to see that it worked\n",
    "animals.dtypes"
   ]
  },
  {
   "cell_type": "code",
   "execution_count": 28,
   "metadata": {},
   "outputs": [
    {
     "data": {
      "text/plain": [
       "Animal_ID                0\n",
       "DOB                      0\n",
       "Date_Time                0\n",
       "Outcome                  0\n",
       "Outcome_Adoption         0\n",
       "Animal_Species           0\n",
       "Animal_Species_Number    0\n",
       "Age_Outcome              0\n",
       "Age_Outcome_Days         0\n",
       "Breed                    0\n",
       "Color                    0\n",
       "dtype: int64"
      ]
     },
     "execution_count": 28,
     "metadata": {},
     "output_type": "execute_result"
    }
   ],
   "source": [
    "# Find any missing values\n",
    "animals.isnull().sum()"
   ]
  },
  {
   "cell_type": "markdown",
   "metadata": {},
   "source": [
    "## Start Modeling"
   ]
  },
  {
   "cell_type": "markdown",
   "metadata": {},
   "source": [
    "Some of my modeling is based off of Project 3."
   ]
  },
  {
   "cell_type": "markdown",
   "metadata": {},
   "source": [
    "## Split Data Into Factors (X) and Target (Y)"
   ]
  },
  {
   "cell_type": "code",
   "execution_count": 29,
   "metadata": {},
   "outputs": [],
   "source": [
    "feature_cols = ['Animal_Species_Number', 'Age_Outcome_Days']\n",
    "X = animals[feature_cols]\n",
    "y = animals.Outcome_Adoption"
   ]
  },
  {
   "cell_type": "markdown",
   "metadata": {},
   "source": [
    "# Instantiate a Linear Regression Model Object Predicting Likelihood of Adoption"
   ]
  },
  {
   "cell_type": "code",
   "execution_count": 30,
   "metadata": {},
   "outputs": [
    {
     "name": "stdout",
     "output_type": "stream",
     "text": [
      "0.6612493178644829\n",
      "[('Animal_Species_Number', -0.058277519593705106), ('Age_Outcome_Days', -7.337304322634232e-05)]\n"
     ]
    }
   ],
   "source": [
    "# Import, instantiate, fit\n",
    "from sklearn.linear_model import LinearRegression\n",
    "linreg = LinearRegression()\n",
    "linreg.fit(X, y)\n",
    "\n",
    "# Print the coefficients\n",
    "print(linreg.intercept_)\n",
    "print(list(zip(feature_cols,linreg.coef_)))"
   ]
  },
  {
   "cell_type": "markdown",
   "metadata": {},
   "source": [
    "## Evaluate the Model"
   ]
  },
  {
   "cell_type": "code",
   "execution_count": 31,
   "metadata": {},
   "outputs": [],
   "source": [
    "from sklearn import model_selection"
   ]
  },
  {
   "cell_type": "code",
   "execution_count": 32,
   "metadata": {},
   "outputs": [],
   "source": [
    "from sklearn import metrics"
   ]
  },
  {
   "cell_type": "code",
   "execution_count": 33,
   "metadata": {},
   "outputs": [],
   "source": [
    "kf = model_selection.KFold(n_splits=5, shuffle=True)"
   ]
  },
  {
   "cell_type": "code",
   "execution_count": 34,
   "metadata": {},
   "outputs": [
    {
     "name": "stdout",
     "output_type": "stream",
     "text": [
      "Cross Validation For Each Fold\n",
      "Model 1\n",
      "MSE: 0.24164208801187892\n",
      "R2: 0.025295458479028476\n",
      "\n",
      "Model 2\n",
      "MSE: 0.24196200320510752\n",
      "R2: 0.025297646460642476\n",
      "\n",
      "Model 3\n",
      "MSE: 0.24237857692805131\n",
      "R2: 0.025293373326438107\n",
      "\n",
      "Model 4\n",
      "MSE: 0.24227984482535533\n",
      "R2: 0.025294423850807712\n",
      "\n",
      "Model 5\n",
      "MSE: 0.24273168217524313\n",
      "R2: 0.025296313350876898\n",
      "\n",
      "Summary of Cross Validation\n",
      "Mean of MSE for all folds: 0.24219883902912726\n",
      "Mean of R2 for all folds: 0.025295443093558734\n"
     ]
    }
   ],
   "source": [
    "mse_values = []\n",
    "scores = []\n",
    "n = 0\n",
    "\n",
    "print(\"Cross Validation For Each Fold\")\n",
    "for train_index, test_index in kf.split(X, y):\n",
    "    lr = LinearRegression().fit(X.iloc[train_index], y.iloc[train_index])\n",
    "    \n",
    "    mse_values.append(metrics.mean_squared_error(y.iloc[test_index], lr.predict(X.iloc[test_index])))\n",
    "    scores.append(lr.score(X, y))\n",
    "    \n",
    "    n += 1\n",
    "    \n",
    "    print('Model {}'.format(n))\n",
    "    print('MSE: {}'.format(mse_values[n-1]))\n",
    "    print('R2: {}\\n'.format(scores[n-1]))\n",
    "\n",
    "\n",
    "print(\"Summary of Cross Validation\")\n",
    "print('Mean of MSE for all folds: {}'.format(np.mean(mse_values)))\n",
    "print('Mean of R2 for all folds: {}'.format(np.mean(scores)))"
   ]
  },
  {
   "cell_type": "code",
   "execution_count": 35,
   "metadata": {},
   "outputs": [
    {
     "name": "stdout",
     "output_type": "stream",
     "text": [
      "0.24220571315695402\n",
      "0.02506362309691925\n"
     ]
    }
   ],
   "source": [
    "from sklearn.model_selection import cross_val_score\n",
    "\n",
    "kf = model_selection.KFold(n_splits=5, shuffle=True)\n",
    "\n",
    "print(np.mean(-cross_val_score(lr, X, y, cv=kf, scoring='neg_mean_squared_error')))\n",
    "print(np.mean(cross_val_score(lr, X, y, cv=kf)))"
   ]
  },
  {
   "cell_type": "markdown",
   "metadata": {},
   "source": [
    "## Classification Using KNN"
   ]
  },
  {
   "cell_type": "markdown",
   "metadata": {},
   "source": [
    "## Downsample the Majority Class"
   ]
  },
  {
   "cell_type": "code",
   "execution_count": 36,
   "metadata": {},
   "outputs": [
    {
     "data": {
      "text/plain": [
       "2    61603\n",
       "3    41270\n",
       "Name: Animal_Species_Number, dtype: int64"
      ]
     },
     "execution_count": 36,
     "metadata": {},
     "output_type": "execute_result"
    }
   ],
   "source": [
    "# Test for imbalanced classes\n",
    "animals.Animal_Species_Number.value_counts()\n",
    "\n",
    "# Remember 2 = Dog and 3 = Cat"
   ]
  },
  {
   "cell_type": "code",
   "execution_count": 37,
   "metadata": {},
   "outputs": [
    {
     "data": {
      "text/plain": [
       "369     1496\n",
       "370     1194\n",
       "366     1177\n",
       "22      1175\n",
       "65      1164\n",
       "        ... \n",
       "6160       1\n",
       "2066       1\n",
       "4177       1\n",
       "3123       1\n",
       "3411       1\n",
       "Name: Age_Outcome_Days, Length: 4791, dtype: int64"
      ]
     },
     "execution_count": 37,
     "metadata": {},
     "output_type": "execute_result"
    }
   ],
   "source": [
    "# Test for imbalanced classes\n",
    "animals.Age_Outcome_Days.value_counts()"
   ]
  },
  {
   "cell_type": "markdown",
   "metadata": {},
   "source": [
    "## Prepare X and Y Matrices"
   ]
  },
  {
   "cell_type": "code",
   "execution_count": 38,
   "metadata": {},
   "outputs": [],
   "source": [
    "# Create feature matrix (X).\n",
    "# Features include the species (2 for dog and 3 for cat) and also age of outcome day.\n",
    "# Y is if the animal was adopted (1 = yes, and 0 = no)\n",
    "feature_cols = ['Animal_Species_Number', 'Age_Outcome_Days']\n",
    "X = animals[feature_cols]\n",
    "y = animals.Outcome_Adoption"
   ]
  },
  {
   "cell_type": "code",
   "execution_count": 39,
   "metadata": {},
   "outputs": [
    {
     "data": {
      "text/plain": [
       "0    1\n",
       "1    1\n",
       "2    0\n",
       "3    1\n",
       "4    1\n",
       "Name: Outcome_Adoption, dtype: int64"
      ]
     },
     "execution_count": 39,
     "metadata": {},
     "output_type": "execute_result"
    }
   ],
   "source": [
    "animals.Outcome_Adoption.head()"
   ]
  },
  {
   "cell_type": "code",
   "execution_count": 40,
   "metadata": {},
   "outputs": [
    {
     "data": {
      "text/html": [
       "<div>\n",
       "<style scoped>\n",
       "    .dataframe tbody tr th:only-of-type {\n",
       "        vertical-align: middle;\n",
       "    }\n",
       "\n",
       "    .dataframe tbody tr th {\n",
       "        vertical-align: top;\n",
       "    }\n",
       "\n",
       "    .dataframe thead th {\n",
       "        text-align: right;\n",
       "    }\n",
       "</style>\n",
       "<table border=\"1\" class=\"dataframe\">\n",
       "  <thead>\n",
       "    <tr style=\"text-align: right;\">\n",
       "      <th></th>\n",
       "      <th>Animal_Species_Number</th>\n",
       "      <th>Age_Outcome_Days</th>\n",
       "    </tr>\n",
       "  </thead>\n",
       "  <tbody>\n",
       "    <tr>\n",
       "      <td>0</td>\n",
       "      <td>2</td>\n",
       "      <td>734</td>\n",
       "    </tr>\n",
       "    <tr>\n",
       "      <td>1</td>\n",
       "      <td>2</td>\n",
       "      <td>128</td>\n",
       "    </tr>\n",
       "    <tr>\n",
       "      <td>2</td>\n",
       "      <td>3</td>\n",
       "      <td>6</td>\n",
       "    </tr>\n",
       "    <tr>\n",
       "      <td>3</td>\n",
       "      <td>3</td>\n",
       "      <td>78</td>\n",
       "    </tr>\n",
       "    <tr>\n",
       "      <td>4</td>\n",
       "      <td>3</td>\n",
       "      <td>63</td>\n",
       "    </tr>\n",
       "  </tbody>\n",
       "</table>\n",
       "</div>"
      ],
      "text/plain": [
       "   Animal_Species_Number  Age_Outcome_Days\n",
       "0                      2               734\n",
       "1                      2               128\n",
       "2                      3                 6\n",
       "3                      3                78\n",
       "4                      3                63"
      ]
     },
     "execution_count": 40,
     "metadata": {},
     "output_type": "execute_result"
    }
   ],
   "source": [
    "animals[feature_cols].head()"
   ]
  },
  {
   "cell_type": "markdown",
   "metadata": {},
   "source": [
    "## Scale Your X Matrix Using a StandardScaler"
   ]
  },
  {
   "cell_type": "code",
   "execution_count": 41,
   "metadata": {},
   "outputs": [],
   "source": [
    "from sklearn.neighbors import KNeighborsClassifier\n",
    "from sklearn.model_selection import train_test_split\n",
    "from sklearn import metrics"
   ]
  },
  {
   "cell_type": "code",
   "execution_count": 42,
   "metadata": {},
   "outputs": [],
   "source": [
    "# Create the train/test split\n",
    "X_train, X_test, y_train, y_test = train_test_split(X, y, random_state=99)"
   ]
  },
  {
   "cell_type": "code",
   "execution_count": 43,
   "metadata": {},
   "outputs": [],
   "source": [
    "# Initiate and fit StandardScaler\n",
    "from sklearn.preprocessing import StandardScaler\n",
    "\n",
    "scaler = StandardScaler()\n",
    "X_train = scaler.fit_transform(X_train)\n",
    "X_test = scaler.transform(X_test)"
   ]
  },
  {
   "cell_type": "code",
   "execution_count": 44,
   "metadata": {},
   "outputs": [
    {
     "name": "stdout",
     "output_type": "stream",
     "text": [
      "(102873, 2)\n",
      "(77154, 2)\n",
      "(25719, 2)\n"
     ]
    }
   ],
   "source": [
    "# Before splitting\n",
    "print(X.shape)\n",
    "\n",
    "# After splitting\n",
    "print(X_train.shape)\n",
    "print(X_test.shape)"
   ]
  },
  {
   "cell_type": "code",
   "execution_count": 45,
   "metadata": {},
   "outputs": [
    {
     "name": "stdout",
     "output_type": "stream",
     "text": [
      "(102873,)\n",
      "(77154,)\n",
      "(25719,)\n"
     ]
    }
   ],
   "source": [
    "#Tuple\n",
    "\n",
    "# Before splitting\n",
    "print(y.shape)\n",
    "\n",
    "# After splitting\n",
    "print(y_train.shape)\n",
    "print(y_test.shape)"
   ]
  },
  {
   "cell_type": "code",
   "execution_count": 46,
   "metadata": {},
   "outputs": [
    {
     "data": {
      "text/plain": [
       "80835    0\n",
       "52581    0\n",
       "86413    0\n",
       "57072    1\n",
       "50293    0\n",
       "Name: Outcome_Adoption, dtype: int64"
      ]
     },
     "execution_count": 46,
     "metadata": {},
     "output_type": "execute_result"
    }
   ],
   "source": [
    "y_test.head()"
   ]
  },
  {
   "cell_type": "code",
   "execution_count": 47,
   "metadata": {},
   "outputs": [
    {
     "name": "stdout",
     "output_type": "stream",
     "text": [
      "       Animal_Species_Number  Age_Outcome_Days\n",
      "81097                      2                68\n"
     ]
    }
   ],
   "source": [
    "# Without a random state parameter:\n",
    "X_train, X_test, y_train, y_test = train_test_split(X, y)\n",
    "\n",
    "# Print the first element of each object\n",
    "print(X_train.head(1))"
   ]
  },
  {
   "cell_type": "markdown",
   "metadata": {},
   "source": [
    "Interesting since this means cats at 15 days."
   ]
  },
  {
   "cell_type": "code",
   "execution_count": 48,
   "metadata": {
    "scrolled": true
   },
   "outputs": [
    {
     "name": "stdout",
     "output_type": "stream",
     "text": [
      "       Animal_Species_Number  Age_Outcome_Days\n",
      "41105                      2              1868\n",
      "       Animal_Species_Number  Age_Outcome_Days\n",
      "83766                      3                64\n",
      "41105    0\n",
      "Name: Outcome_Adoption, dtype: int64\n",
      "83766    1\n",
      "Name: Outcome_Adoption, dtype: int64\n"
     ]
    }
   ],
   "source": [
    "# With a random state parameter:\n",
    "X_train, X_test, y_train, y_test = train_test_split(X, y, random_state=1)\n",
    "\n",
    "# Print the first element of each object\n",
    "print(X_train.head(1))\n",
    "print(X_test.head(1))\n",
    "print(y_train.head(1))\n",
    "print(y_test.head(1))"
   ]
  },
  {
   "cell_type": "code",
   "execution_count": 49,
   "metadata": {},
   "outputs": [],
   "source": [
    "# Initiate and fit StandardScaler\n",
    "from sklearn.preprocessing import StandardScaler\n",
    "\n",
    "scaler = StandardScaler()\n",
    "X_train = scaler.fit_transform(X_train)\n",
    "X_test = scaler.transform(X_test)"
   ]
  },
  {
   "cell_type": "markdown",
   "metadata": {},
   "source": [
    "## K-Nearest Neighbors"
   ]
  },
  {
   "cell_type": "code",
   "execution_count": 50,
   "metadata": {},
   "outputs": [],
   "source": [
    "# Instantiate the model (using the value K=5)\n",
    "knn = KNeighborsClassifier(n_neighbors=5)\n",
    "\n",
    "# Fit the model\n",
    "knn.fit(X, y)\n",
    "\n",
    "# Store the predicted values\n",
    "y_pred_class = knn.predict(X)"
   ]
  },
  {
   "cell_type": "code",
   "execution_count": 51,
   "metadata": {},
   "outputs": [],
   "source": [
    "scores = []\n",
    "for k in range(1,100):\n",
    "    knn = KNeighborsClassifier(n_neighbors=k)\n",
    "    knn.fit(X,y)\n",
    "    pred = knn.predict(X)\n",
    "    score = float(sum(pred == y)) / len(y)\n",
    "    scores.append([k, score])"
   ]
  },
  {
   "cell_type": "code",
   "execution_count": 52,
   "metadata": {},
   "outputs": [
    {
     "data": {
      "image/png": "[encoded data removed]",
      "text/plain": [
       "<Figure size 432x288 with 1 Axes>"
      ]
     },
     "metadata": {
      "needs_background": "light"
     },
     "output_type": "display_data"
    }
   ],
   "source": [
    "data = pd.DataFrame(scores,columns=['k','score'])\n",
    "data.plot.line(x='k',y='score');"
   ]
  },
  {
   "cell_type": "code",
   "execution_count": 53,
   "metadata": {},
   "outputs": [],
   "source": [
    "# Calculate training and testing error for K=1 through 100\n",
    "\n",
    "k_range = list(range(1, 101))\n",
    "training_error = []\n",
    "testing_error = []"
   ]
  },
  {
   "cell_type": "code",
   "execution_count": 54,
   "metadata": {},
   "outputs": [],
   "source": [
    "# Find accuracy for all values of K between 1 and 100\n",
    "for k in k_range:\n",
    "\n",
    "    # Instantiate the model with the current K value\n",
    "    knn = KNeighborsClassifier(n_neighbors=k)\n",
    "    knn.fit(X_train, y_train)\n",
    "    \n",
    "    # Calculate training error\n",
    "    y_pred_class = knn.predict(X)\n",
    "    training_accuracy = metrics.accuracy_score(y, y_pred_class)\n",
    "    training_error.append(1 - training_accuracy)\n",
    "    \n",
    "    # Calculate testing error\n",
    "    y_pred_class = knn.predict(X_test)\n",
    "    testing_accuracy = metrics.accuracy_score(y_test, y_pred_class)\n",
    "    testing_error.append(1 - testing_accuracy)"
   ]
  },
  {
   "cell_type": "code",
   "execution_count": 55,
   "metadata": {},
   "outputs": [],
   "source": [
    "%matplotlib inline\n",
    "import matplotlib.pyplot as plt"
   ]
  },
  {
   "cell_type": "code",
   "execution_count": 56,
   "metadata": {},
   "outputs": [
    {
     "data": {
      "text/html": [
       "<div>\n",
       "<style scoped>\n",
       "    .dataframe tbody tr th:only-of-type {\n",
       "        vertical-align: middle;\n",
       "    }\n",
       "\n",
       "    .dataframe tbody tr th {\n",
       "        vertical-align: top;\n",
       "    }\n",
       "\n",
       "    .dataframe thead th {\n",
       "        text-align: right;\n",
       "    }\n",
       "</style>\n",
       "<table border=\"1\" class=\"dataframe\">\n",
       "  <thead>\n",
       "    <tr style=\"text-align: right;\">\n",
       "      <th></th>\n",
       "      <th>training error</th>\n",
       "      <th>testing error</th>\n",
       "    </tr>\n",
       "    <tr>\n",
       "      <th>K</th>\n",
       "      <th></th>\n",
       "      <th></th>\n",
       "    </tr>\n",
       "  </thead>\n",
       "  <tbody>\n",
       "    <tr>\n",
       "      <td>100</td>\n",
       "      <td>0.470221</td>\n",
       "      <td>0.275866</td>\n",
       "    </tr>\n",
       "    <tr>\n",
       "      <td>99</td>\n",
       "      <td>0.470221</td>\n",
       "      <td>0.275361</td>\n",
       "    </tr>\n",
       "    <tr>\n",
       "      <td>98</td>\n",
       "      <td>0.470221</td>\n",
       "      <td>0.275944</td>\n",
       "    </tr>\n",
       "    <tr>\n",
       "      <td>97</td>\n",
       "      <td>0.470221</td>\n",
       "      <td>0.276177</td>\n",
       "    </tr>\n",
       "    <tr>\n",
       "      <td>96</td>\n",
       "      <td>0.470221</td>\n",
       "      <td>0.276566</td>\n",
       "    </tr>\n",
       "  </tbody>\n",
       "</table>\n",
       "</div>"
      ],
      "text/plain": [
       "     training error  testing error\n",
       "K                                 \n",
       "100        0.470221       0.275866\n",
       "99         0.470221       0.275361\n",
       "98         0.470221       0.275944\n",
       "97         0.470221       0.276177\n",
       "96         0.470221       0.276566"
      ]
     },
     "execution_count": 56,
     "metadata": {},
     "output_type": "execute_result"
    }
   ],
   "source": [
    "# Create the df of K, training error, and testing error\n",
    "column_dict = {'K': k_range, 'training error':training_error, 'testing error':testing_error}\n",
    "df = pd.DataFrame(column_dict).set_index('K').sort_index(ascending=False)\n",
    "df.head()"
   ]
  },
  {
   "cell_type": "code",
   "execution_count": 57,
   "metadata": {},
   "outputs": [
    {
     "data": {
      "image/png": "[encoded data removed]",
      "text/plain": [
       "<Figure size 432x288 with 1 Axes>"
      ]
     },
     "metadata": {
      "needs_background": "light"
     },
     "output_type": "display_data"
    }
   ],
   "source": [
    "# Plot the relationship between K and testing error\n",
    "df.plot(y='testing error');\n",
    "plt.xlabel('Value of K');\n",
    "plt.ylabel('Error');"
   ]
  },
  {
   "cell_type": "code",
   "execution_count": 58,
   "metadata": {},
   "outputs": [
    {
     "data": {
      "text/html": [
       "<div>\n",
       "<style scoped>\n",
       "    .dataframe tbody tr th:only-of-type {\n",
       "        vertical-align: middle;\n",
       "    }\n",
       "\n",
       "    .dataframe tbody tr th {\n",
       "        vertical-align: top;\n",
       "    }\n",
       "\n",
       "    .dataframe thead th {\n",
       "        text-align: right;\n",
       "    }\n",
       "</style>\n",
       "<table border=\"1\" class=\"dataframe\">\n",
       "  <thead>\n",
       "    <tr style=\"text-align: right;\">\n",
       "      <th></th>\n",
       "      <th>training error</th>\n",
       "      <th>testing error</th>\n",
       "    </tr>\n",
       "    <tr>\n",
       "      <th>K</th>\n",
       "      <th></th>\n",
       "      <th></th>\n",
       "    </tr>\n",
       "  </thead>\n",
       "  <tbody>\n",
       "    <tr>\n",
       "      <td>51</td>\n",
       "      <td>0.470221</td>\n",
       "      <td>0.272950</td>\n",
       "    </tr>\n",
       "    <tr>\n",
       "      <td>50</td>\n",
       "      <td>0.470221</td>\n",
       "      <td>0.273261</td>\n",
       "    </tr>\n",
       "    <tr>\n",
       "      <td>48</td>\n",
       "      <td>0.470221</td>\n",
       "      <td>0.273300</td>\n",
       "    </tr>\n",
       "    <tr>\n",
       "      <td>53</td>\n",
       "      <td>0.470221</td>\n",
       "      <td>0.273494</td>\n",
       "    </tr>\n",
       "    <tr>\n",
       "      <td>49</td>\n",
       "      <td>0.470221</td>\n",
       "      <td>0.274272</td>\n",
       "    </tr>\n",
       "  </tbody>\n",
       "</table>\n",
       "</div>"
      ],
      "text/plain": [
       "    training error  testing error\n",
       "K                                \n",
       "51        0.470221       0.272950\n",
       "50        0.470221       0.273261\n",
       "48        0.470221       0.273300\n",
       "53        0.470221       0.273494\n",
       "49        0.470221       0.274272"
      ]
     },
     "execution_count": 58,
     "metadata": {},
     "output_type": "execute_result"
    }
   ],
   "source": [
    "# Find minimum testing error and the associated K value\n",
    "df.sort_values('testing error').head()"
   ]
  },
  {
   "cell_type": "markdown",
   "metadata": {},
   "source": [
    "## Produce the Best KNN Model"
   ]
  },
  {
   "cell_type": "code",
   "execution_count": 59,
   "metadata": {},
   "outputs": [
    {
     "data": {
      "image/png": "[encoded data removed]",
      "text/plain": [
       "<Figure size 432x288 with 1 Axes>"
      ]
     },
     "metadata": {
      "needs_background": "light"
     },
     "output_type": "display_data"
    }
   ],
   "source": [
    "# Plot relationship between K and both training and testing errors\n",
    "df.plot();\n",
    "plt.xlabel('Value of K');\n",
    "plt.ylabel('Error');"
   ]
  },
  {
   "cell_type": "markdown",
   "metadata": {},
   "source": [
    "It is interesting that the testing error is signigicantly lower than the training error."
   ]
  },
  {
   "cell_type": "code",
   "execution_count": 60,
   "metadata": {},
   "outputs": [],
   "source": [
    "# Instantiate the model\n",
    "knn = KNeighborsClassifier(n_neighbors=50)"
   ]
  },
  {
   "cell_type": "code",
   "execution_count": 61,
   "metadata": {},
   "outputs": [
    {
     "data": {
      "text/plain": [
       "KNeighborsClassifier(algorithm='auto', leaf_size=30, metric='minkowski',\n",
       "                     metric_params=None, n_jobs=None, n_neighbors=50, p=2,\n",
       "                     weights='uniform')"
      ]
     },
     "execution_count": 61,
     "metadata": {},
     "output_type": "execute_result"
    }
   ],
   "source": [
    "# Fit the model\n",
    "knn.fit(X, y)"
   ]
  },
  {
   "cell_type": "code",
   "execution_count": 62,
   "metadata": {},
   "outputs": [],
   "source": [
    "# Store the predicted values\n",
    "y_pred_class = knn.predict(X)"
   ]
  },
  {
   "cell_type": "code",
   "execution_count": 63,
   "metadata": {},
   "outputs": [
    {
     "name": "stdout",
     "output_type": "stream",
     "text": [
      "0.27326101325868035\n"
     ]
    }
   ],
   "source": [
    "# Calculate testing error\n",
    "knn = KNeighborsClassifier(n_neighbors=50)\n",
    "knn.fit(X_train, y_train)\n",
    "\n",
    "y_pred_class = knn.predict(X_test)\n",
    "testing_accuracy = metrics.accuracy_score(y_test, y_pred_class)\n",
    "testing_error = 1 - testing_accuracy\n",
    "\n",
    "print(testing_error)"
   ]
  },
  {
   "cell_type": "markdown",
   "metadata": {},
   "source": [
    "Surprisingly, this is a rather low testing error."
   ]
  },
  {
   "cell_type": "markdown",
   "metadata": {},
   "source": [
    "## Does This Model Outperform the Baseline?"
   ]
  },
  {
   "cell_type": "code",
   "execution_count": 64,
   "metadata": {},
   "outputs": [
    {
     "name": "stdout",
     "output_type": "stream",
     "text": [
      "0    41659\n",
      "1    35495\n",
      "Name: Outcome_Adoption, dtype: int64\n"
     ]
    },
    {
     "data": {
      "text/plain": [
       "0"
      ]
     },
     "execution_count": 64,
     "metadata": {},
     "output_type": "execute_result"
    }
   ],
   "source": [
    "# Class distribution in training dataset\n",
    "most_freq_class = y_train.value_counts().index[0]\n",
    "\n",
    "print(y_train.value_counts())\n",
    "most_freq_class"
   ]
  },
  {
   "cell_type": "code",
   "execution_count": 65,
   "metadata": {},
   "outputs": [
    {
     "data": {
      "text/plain": [
       "0.5362961234884716"
      ]
     },
     "execution_count": 65,
     "metadata": {},
     "output_type": "execute_result"
    }
   ],
   "source": [
    "# Calculate the null accuracy\n",
    "y_test.value_counts()[most_freq_class] / len(y_test)"
   ]
  },
  {
   "cell_type": "markdown",
   "metadata": {},
   "source": [
    "## Prediction"
   ]
  },
  {
   "cell_type": "code",
   "execution_count": 66,
   "metadata": {},
   "outputs": [],
   "source": [
    "# Set X and Y\n",
    "X = animals[['Animal_Species_Number','Age_Outcome_Days']]\n",
    "y = animals['Outcome_Adoption']\n",
    "\n",
    "lr = LinearRegression()\n",
    "lr.fit(X, y)\n",
    "\n",
    "y_pred = lr.predict(X)"
   ]
  },
  {
   "cell_type": "code",
   "execution_count": 67,
   "metadata": {},
   "outputs": [
    {
     "data": {
      "text/plain": [
       "array([0.49083846, 0.53530253, 0.48597652, ..., 0.48076703, 0.39596712,\n",
       "       0.46829362])"
      ]
     },
     "execution_count": 67,
     "metadata": {},
     "output_type": "execute_result"
    }
   ],
   "source": [
    "y_pred"
   ]
  },
  {
   "cell_type": "markdown",
   "metadata": {},
   "source": [
    "## Test the Model Again"
   ]
  },
  {
   "cell_type": "markdown",
   "metadata": {},
   "source": [
    "Mainly for me to check myself and the results above."
   ]
  },
  {
   "cell_type": "code",
   "execution_count": 68,
   "metadata": {},
   "outputs": [
    {
     "name": "stderr",
     "output_type": "stream",
     "text": [
      "C:\\Users\\597551\\AppData\\Local\\Continuum\\anaconda3\\lib\\site-packages\\sklearn\\linear_model\\logistic.py:432: FutureWarning: Default solver will be changed to 'lbfgs' in 0.22. Specify a solver to silence this warning.\n",
      "  FutureWarning)\n"
     ]
    },
    {
     "data": {
      "text/plain": [
       "0.5827987091255492"
      ]
     },
     "execution_count": 68,
     "metadata": {},
     "output_type": "execute_result"
    }
   ],
   "source": [
    "from sklearn.linear_model import LogisticRegression\n",
    "LR = LogisticRegression()\n",
    "feature_cols = ['Animal_Species_Number', 'Age_Outcome_Days']\n",
    "X = animals[feature_cols]\n",
    "y = animals.Outcome_Adoption\n",
    "\n",
    "from sklearn.model_selection import train_test_split\n",
    "\n",
    "X_train, X_test, y_train, y_test = train_test_split(X,y)\n",
    "\n",
    "LR.fit(X_train,y_train)\n",
    "\n",
    "y_pred = LR.predict(X_test)\n",
    "\n",
    "LR.score(X_test, y_test) #accuracy"
   ]
  },
  {
   "cell_type": "code",
   "execution_count": 69,
   "metadata": {},
   "outputs": [],
   "source": [
    "from sklearn import model_selection"
   ]
  },
  {
   "cell_type": "code",
   "execution_count": 70,
   "metadata": {},
   "outputs": [
    {
     "name": "stderr",
     "output_type": "stream",
     "text": [
      "C:\\Users\\597551\\AppData\\Local\\Continuum\\anaconda3\\lib\\site-packages\\sklearn\\linear_model\\logistic.py:432: FutureWarning: Default solver will be changed to 'lbfgs' in 0.22. Specify a solver to silence this warning.\n",
      "  FutureWarning)\n",
      "C:\\Users\\597551\\AppData\\Local\\Continuum\\anaconda3\\lib\\site-packages\\sklearn\\linear_model\\logistic.py:432: FutureWarning: Default solver will be changed to 'lbfgs' in 0.22. Specify a solver to silence this warning.\n",
      "  FutureWarning)\n",
      "C:\\Users\\597551\\AppData\\Local\\Continuum\\anaconda3\\lib\\site-packages\\sklearn\\linear_model\\logistic.py:432: FutureWarning: Default solver will be changed to 'lbfgs' in 0.22. Specify a solver to silence this warning.\n",
      "  FutureWarning)\n",
      "C:\\Users\\597551\\AppData\\Local\\Continuum\\anaconda3\\lib\\site-packages\\sklearn\\linear_model\\logistic.py:432: FutureWarning: Default solver will be changed to 'lbfgs' in 0.22. Specify a solver to silence this warning.\n",
      "  FutureWarning)\n",
      "C:\\Users\\597551\\AppData\\Local\\Continuum\\anaconda3\\lib\\site-packages\\sklearn\\linear_model\\logistic.py:432: FutureWarning: Default solver will be changed to 'lbfgs' in 0.22. Specify a solver to silence this warning.\n",
      "  FutureWarning)\n"
     ]
    },
    {
     "name": "stdout",
     "output_type": "stream",
     "text": [
      "0.4451506105276735\n"
     ]
    },
    {
     "name": "stderr",
     "output_type": "stream",
     "text": [
      "C:\\Users\\597551\\AppData\\Local\\Continuum\\anaconda3\\lib\\site-packages\\sklearn\\linear_model\\logistic.py:432: FutureWarning: Default solver will be changed to 'lbfgs' in 0.22. Specify a solver to silence this warning.\n",
      "  FutureWarning)\n",
      "C:\\Users\\597551\\AppData\\Local\\Continuum\\anaconda3\\lib\\site-packages\\sklearn\\linear_model\\logistic.py:432: FutureWarning: Default solver will be changed to 'lbfgs' in 0.22. Specify a solver to silence this warning.\n",
      "  FutureWarning)\n",
      "C:\\Users\\597551\\AppData\\Local\\Continuum\\anaconda3\\lib\\site-packages\\sklearn\\linear_model\\logistic.py:432: FutureWarning: Default solver will be changed to 'lbfgs' in 0.22. Specify a solver to silence this warning.\n",
      "  FutureWarning)\n",
      "C:\\Users\\597551\\AppData\\Local\\Continuum\\anaconda3\\lib\\site-packages\\sklearn\\linear_model\\logistic.py:432: FutureWarning: Default solver will be changed to 'lbfgs' in 0.22. Specify a solver to silence this warning.\n",
      "  FutureWarning)\n",
      "C:\\Users\\597551\\AppData\\Local\\Continuum\\anaconda3\\lib\\site-packages\\sklearn\\linear_model\\logistic.py:432: FutureWarning: Default solver will be changed to 'lbfgs' in 0.22. Specify a solver to silence this warning.\n",
      "  FutureWarning)\n"
     ]
    },
    {
     "name": "stdout",
     "output_type": "stream",
     "text": [
      "0.5842543001282394\n"
     ]
    }
   ],
   "source": [
    "#Five-fold cross-validation\n",
    "from sklearn.model_selection import cross_val_score\n",
    "\n",
    "kf = model_selection.KFold(n_splits=5, shuffle=True)\n",
    "lr = LogisticRegression()\n",
    "print(np.mean(-cross_val_score(lr, X, y, cv=kf, scoring='neg_mean_squared_error')))\n",
    "print(np.mean(cross_val_score(lr, X, y, cv=kf)))"
   ]
  },
  {
   "cell_type": "code",
   "execution_count": 71,
   "metadata": {},
   "outputs": [
    {
     "data": {
      "text/plain": [
       "array([[10744,  3098],\n",
       "       [ 7632,  4245]], dtype=int64)"
      ]
     },
     "execution_count": 71,
     "metadata": {},
     "output_type": "execute_result"
    }
   ],
   "source": [
    "from sklearn import metrics\n",
    "cnf_matrix = metrics.confusion_matrix(y_test, y_pred)\n",
    "cnf_matrix"
   ]
  },
  {
   "cell_type": "code",
   "execution_count": 72,
   "metadata": {},
   "outputs": [
    {
     "name": "stdout",
     "output_type": "stream",
     "text": [
      "Accuracy: 0.5827987091255492\n"
     ]
    }
   ],
   "source": [
    "print(\"Accuracy:\",metrics.accuracy_score(y_test, y_pred))"
   ]
  },
  {
   "cell_type": "code",
   "execution_count": 73,
   "metadata": {},
   "outputs": [
    {
     "name": "stdout",
     "output_type": "stream",
     "text": [
      "0    41610\n",
      "1    35544\n",
      "Name: Outcome_Adoption, dtype: int64\n"
     ]
    },
    {
     "data": {
      "text/plain": [
       "0"
      ]
     },
     "execution_count": 73,
     "metadata": {},
     "output_type": "execute_result"
    }
   ],
   "source": [
    "# Class distribution in training dataset\n",
    "most_freq_class = y_train.value_counts().index[0]\n",
    "\n",
    "print(y_train.value_counts())\n",
    "most_freq_class"
   ]
  },
  {
   "cell_type": "code",
   "execution_count": 74,
   "metadata": {},
   "outputs": [
    {
     "data": {
      "text/plain": [
       "0.5382013297562114"
      ]
     },
     "execution_count": 74,
     "metadata": {},
     "output_type": "execute_result"
    }
   ],
   "source": [
    "# Calculate the null accuracy\n",
    "y_test.value_counts()[most_freq_class] / len(y_test)"
   ]
  },
  {
   "cell_type": "code",
   "execution_count": 75,
   "metadata": {},
   "outputs": [],
   "source": [
    "# Set X and Y\n",
    "feature_cols = ['Animal_Species_Number', 'Age_Outcome_Days']\n",
    "X = animals[feature_cols]\n",
    "y = animals.Outcome_Adoption\n",
    "\n",
    "lr = LinearRegression()\n",
    "lr.fit(X, y)\n",
    "\n",
    "y_pred = lr.predict(X)"
   ]
  },
  {
   "cell_type": "code",
   "execution_count": 76,
   "metadata": {},
   "outputs": [
    {
     "data": {
      "text/plain": [
       "array([0.49083846, 0.53530253, 0.48597652, ..., 0.48076703, 0.39596712,\n",
       "       0.46829362])"
      ]
     },
     "execution_count": 76,
     "metadata": {},
     "output_type": "execute_result"
    }
   ],
   "source": [
    "y_pred"
   ]
  },
  {
   "cell_type": "code",
   "execution_count": null,
   "metadata": {},
   "outputs": [],
   "source": []
  }
 ],
 "metadata": {
  "kernelspec": {
   "display_name": "Python 3",
   "language": "python",
   "name": "python3"
  },
  "language_info": {
   "codemirror_mode": {
    "name": "ipython",
    "version": 3
   },
   "file_extension": ".py",
   "mimetype": "text/x-python",
   "name": "python",
   "nbconvert_exporter": "python",
   "pygments_lexer": "ipython3",
   "version": "3.7.4"
  }
 },
 "nbformat": 4,
 "nbformat_minor": 2
}
